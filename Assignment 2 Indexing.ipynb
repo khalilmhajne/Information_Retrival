{
  "nbformat": 4,
  "nbformat_minor": 0,
  "metadata": {
    "colab": {
      "name": "assignment_2.ipynb",
      "provenance": [],
      "collapsed_sections": []
    },
    "kernelspec": {
      "display_name": "Python 3",
      "language": "python",
      "name": "python3"
    },
    "language_info": {
      "codemirror_mode": {
        "name": "ipython",
        "version": 3
      },
      "file_extension": ".py",
      "mimetype": "text/x-python",
      "name": "python",
      "nbconvert_exporter": "python",
      "pygments_lexer": "ipython3",
      "version": "3.7.6"
    },
    "toc": {
      "base_numbering": 1,
      "nav_menu": {},
      "number_sections": true,
      "sideBar": false,
      "skip_h1_title": false,
      "title_cell": "Table of Contents",
      "title_sidebar": "Contents",
      "toc_cell": false,
      "toc_position": {},
      "toc_section_display": true,
      "toc_window_display": true
    }
  },
  "cells": [
    {
      "cell_type": "markdown",
      "metadata": {
        "id": "xZStr8Th4jBq"
      },
      "source": [
        "# Assignment 2: Indexing"
      ]
    },
    {
      "cell_type": "markdown",
      "metadata": {
        "id": "BN0aEQUD4mwy"
      },
      "source": [
        "## General guidelines\n",
        "\n",
        "This notebook contains considerable amount of code to help you complete this assignment. Your task is to implement any missing parts of the code and answer any questions (if exist) within this notebook. This will require understanding the existing code, may require reading about packages being used, reading additional resources, and maybe even going over your notes from class 😱\n",
        "\n",
        "**Evaluation and auto-grading**: Your submissions will be evaluated using both automatic and manual grading. Code parts for implementation are marked with a comment `# YOUR CODE HERE`, and usually followed by cell(s) containing automatic tests that evaluate the correctness of your answer. Staff will allow your notebook to **execute from start to finish for no more than 90 seconds**, then manually assess your submission. Any automatic tests that did not run due to your notebook timing out **will automatically receive 0 points**. The execution time excludes initial data download, which will already exist in the testing environment. The staff reserves the right to **modify any grade provided by the auto-grader** as well as to **execute additional tests not provided to you**. It is also important to note that **auto-graded cells only result in full or no credit**. In other words, you must pass all tests implemented in a test cell in order to get the credit for it, and passing some, but not all, of the tests in a test cell will not earn you any points for that cell. \n",
        "\n",
        "**Submission**: Unless specified otherwise, you need to upload this notebook file **with your ID as the file name**, e.g. 012345678.ipynb, to the assignment on Moodle. Before submitting, **make sure the notebook executes from start to finish in less than 90 seconds**."
      ]
    },
    {
      "cell_type": "markdown",
      "metadata": {
        "id": "0FLuP8v74n4i"
      },
      "source": [
        "# Tasks\n",
        "\n",
        "In this assignment, we are going to build an inverted index, empirically examine the resulting word frequencies (Zipf's law) in a subset of the Wikipedia corpus, and test the impact of different indexing decisions (stopword removal, stemming, etc.) on index size. \n",
        "\n",
        "To save you (and us) time, in this assignment we are providing you with pre-processed data. The file `part15_preprocessed.pkl`, which you should upload to your environment, contains 2,000 articles from the wikipedia dump, where we already removed WikiMedia markdown from the body of articles, parsed any outgoing links to other wikipedia articles, and matched links to target article ID's. The entire code for preprocessing is [here](https://gist.github.com/nirg/e3b6d3b47607b22bab2175378e70a09d) and while you do not need to run it in this assignment, it is useful for you to look closely at it so you will be able to process the wiki dump in future assignments and/or in the project.  \n",
        "\n",
        "**Your tasks in this assigment are:**\n",
        "\n",
        "1. (50 Points) Complete the implementation of an inverted index that supports:\n",
        "  1. Reading one posting list at a time from a posting file in disk (20 Points).\n",
        "  2. Merging partial indices built from subsets/batches of documents using the BSBI algorithm (30 Points).\n",
        "2. (40 Points) Calculate various word statistics and examine Zipf's law. In particular, you will be asked to:\n",
        "  1. Calculate word counts using the title, body and anchor text of each page (10 Points).\n",
        "  2. Filter words and apply stemming (10 Points). \n",
        "  3. Create a list of corpus stop-words (10 Points).\n",
        "  4. Calculate and plot Zipf's law (5 Points).\n",
        "  5. Create a list of corpus rare words (5 Points).\n",
        "3. (10 Points) Examine the impact of different indexing decisions (stopword removal, rare word removal, and stemming) on index size. \n",
        "\n",
        "\n"
      ]
    },
    {
      "cell_type": "code",
      "metadata": {
        "colab": {
          "base_uri": "https://localhost:8080/"
        },
        "id": "53kCjteP7hY9",
        "outputId": "9bb97120-0966-411f-838e-6f00a8b9c1d5"
      },
      "source": [
        "import numpy as np\n",
        "import pandas as pd\n",
        "%load_ext google.colab.data_table\n",
        "import bz2\n",
        "from functools import partial\n",
        "from collections import Counter, OrderedDict\n",
        "import pickle\n",
        "import heapq\n",
        "from itertools import islice, count, groupby\n",
        "from xml.etree import ElementTree\n",
        "import codecs\n",
        "import csv\n",
        "import os\n",
        "import re\n",
        "from operator import itemgetter\n",
        "import nltk\n",
        "from nltk.stem.porter import *\n",
        "from nltk.corpus import stopwords\n",
        "import matplotlib.pyplot as plt\n",
        "%matplotlib inline\n",
        "from pathlib import Path\n",
        "import itertools\n",
        "from time import time\n",
        "import hashlib\n",
        "def _hash(s):\n",
        "    return hashlib.blake2b(bytes(s, encoding='utf8'), digest_size=5).hexdigest()\n",
        "\n",
        "nltk.download('stopwords')"
      ],
      "execution_count": 294,
      "outputs": [
        {
          "output_type": "stream",
          "name": "stdout",
          "text": [
            "The google.colab.data_table extension is already loaded. To reload it, use:\n",
            "  %reload_ext google.colab.data_table\n",
            "[nltk_data] Downloading package stopwords to /root/nltk_data...\n",
            "[nltk_data]   Package stopwords is already up-to-date!\n"
          ]
        },
        {
          "output_type": "execute_result",
          "data": {
            "text/plain": [
              "True"
            ]
          },
          "metadata": {},
          "execution_count": 294
        }
      ]
    },
    {
      "cell_type": "markdown",
      "metadata": {
        "id": "KKIagN-f54oV"
      },
      "source": [
        "# Inverted index"
      ]
    },
    {
      "cell_type": "markdown",
      "metadata": {
        "id": "f9ndbxwo6tQk"
      },
      "source": [
        "## Helper classes"
      ]
    },
    {
      "cell_type": "markdown",
      "metadata": {
        "id": "_0eOSE177yeq"
      },
      "source": [
        "Before we delve into the implementation of an Inverted Index, we'll define two classes that will help us read and write data that is partitioned into fixed-size files on disk. This way we don't have to worry about writing too long of a posting list to disk or too little to disk when implementing the inverted index class. "
      ]
    },
    {
      "cell_type": "code",
      "metadata": {
        "id": "cMpm3gYA71n7"
      },
      "source": [
        "# Let's start with a small block size of 30 bytes just to test things out. \n",
        "BLOCK_SIZE = 30\n",
        "\n",
        "class MultiFileWriter:\n",
        "    \"\"\" Sequential binary writer to multiple files of up to BLOCK_SIZE each. \"\"\"\n",
        "    def __init__(self, base_dir, name):\n",
        "        self._base_dir = Path(base_dir)\n",
        "        self._name = name\n",
        "        self._file_gen = (open(self._base_dir / f'{name}_{i:03}.bin', 'wb') \n",
        "                          for i in count())\n",
        "        self._f = next(self._file_gen)\n",
        "    \n",
        "    def write(self, b):\n",
        "      locs = []\n",
        "      while len(b) > 0:\n",
        "        pos = self._f.tell()\n",
        "        remaining = BLOCK_SIZE - pos\n",
        "        # if the current file is full, close and open a new one.\n",
        "        if remaining == 0:  \n",
        "          self._f.close()\n",
        "          self._f = next(self._file_gen)\n",
        "          pos, remaining = 0, BLOCK_SIZE\n",
        "        self._f.write(b[:remaining])\n",
        "        locs.append((self._f.name, pos))\n",
        "        b = b[remaining:]\n",
        "      return locs\n",
        "\n",
        "    def close(self):\n",
        "      self._f.close()\n",
        "\n",
        "class MultiFileReader:\n",
        "  \"\"\" Sequential binary reader of multiple files of up to BLOCK_SIZE each. \"\"\"\n",
        "  def __init__(self):\n",
        "    self._open_files = {}\n",
        "\n",
        "  def read(self, locs, n_bytes):\n",
        "    b = []\n",
        "    for f_name, offset in locs:\n",
        "      if f_name not in self._open_files:\n",
        "        self._open_files[f_name] = open(f_name, 'rb')\n",
        "      f = self._open_files[f_name]\n",
        "      f.seek(offset)\n",
        "      n_read = min(n_bytes, BLOCK_SIZE - offset)\n",
        "      b.append(f.read(n_read))\n",
        "      n_bytes -= n_read\n",
        "    return b''.join(b)\n",
        "  \n",
        "  def close(self):\n",
        "    for f in self._open_files.values():\n",
        "      f.close()\n",
        "\n",
        "  def __exit__(self, exc_type, exc_value, traceback):\n",
        "    self.close()\n",
        "    return False "
      ],
      "execution_count": 295,
      "outputs": []
    },
    {
      "cell_type": "markdown",
      "metadata": {
        "id": "QH39_OIa6yCe"
      },
      "source": [
        "## Index implementation"
      ]
    },
    {
      "cell_type": "markdown",
      "metadata": {
        "id": "dWRzIyj47_1e"
      },
      "source": [
        "Below is our core implementation of an inverted index. The inverted index class supports adding documents to the index, keeping global statistics about the documents added (e.g. the document frequency per word), and writing the index to disk. **Pay close attention to the implmentation as you will need to extend it next**. "
      ]
    },
    {
      "cell_type": "code",
      "metadata": {
        "id": "jN0adL9J8GzM"
      },
      "source": [
        "from collections import defaultdict\n",
        "from contextlib import closing\n",
        "\n",
        "TUPLE_SIZE = 6       # We're going to pack the doc_id and tf values in this \n",
        "                     # many bytes.\n",
        "TF_MASK = 2 ** 16 - 1 # Masking the 16 low bits of an integer\n",
        "\n",
        "class InvertedIndex:  \n",
        "  def __init__(self, docs={}):\n",
        "    \"\"\" Initializes the inverted index and add documents to it (if provided).\n",
        "    Parameters:\n",
        "    -----------\n",
        "      docs: dict mapping doc_id to list of tokens\n",
        "    \"\"\"\n",
        "    # stores document frequency per term\n",
        "    self.df = Counter()\n",
        "    # stores total frequency per term\n",
        "    self.term_total = Counter()\n",
        "    # stores posting list per term while building the index (internally), \n",
        "    # otherwise too big to store in memory.\n",
        "    self._posting_list = defaultdict(list)\n",
        "    # mapping a term to posting file locations, which is a list of \n",
        "    # (file_name, offset) pairs. Since posting lists are big we are going to\n",
        "    # write them to disk and just save their location in this list. We are \n",
        "    # using the MultiFileWriter helper class to write fixed-size files and store\n",
        "    # for each term/posting list its list of locations. The offset represents \n",
        "    # the number of bytes from the beginning of the file where the posting list\n",
        "    # starts. \n",
        "    self.posting_locs = defaultdict(list)\n",
        "    \n",
        "    for doc_id, tokens in docs.items():\n",
        "      self.add_doc(doc_id, tokens)\n",
        "\n",
        "  def add_doc(self, doc_id, tokens):\n",
        "    \"\"\" Adds a document to the index with a given `doc_id` and tokens. It counts\n",
        "        the tf of tokens, then update the index (in memory, no storage \n",
        "        side-effects).\n",
        "    \"\"\"\n",
        "    w2cnt = Counter(tokens)\n",
        "    self.term_total.update(w2cnt)\n",
        "    for w, cnt in w2cnt.items():\n",
        "      self.df[w] = self.df.get(w, 0) + 1\n",
        "      self._posting_list[w].append((doc_id, cnt))\n",
        "\n",
        "  def write(self, base_dir, name):\n",
        "    \"\"\" Write the in-memory index to disk and populate the `posting_locs`\n",
        "        variables with information about file location and offset of posting\n",
        "        lists. Results in at least two files: \n",
        "        (1) posting files `name`XXX.bin containing the posting lists.\n",
        "        (2) `name`.pkl containing the global term stats (e.g. df).\n",
        "    \"\"\"\n",
        "    #### POSTINGS ####\n",
        "    self.posting_locs = defaultdict(list)\n",
        "    with closing(MultiFileWriter(base_dir, name)) as writer:\n",
        "      # iterate over posting lists in lexicographic order\n",
        "      for w in sorted(self._posting_list.keys()):\n",
        "        self._write_a_posting_list(w, writer, sort=True)\n",
        "    #### GLOBAL DICTIONARIES ####\n",
        "    self._write_globals(base_dir, name)\n",
        "\n",
        "  def _write_globals(self, base_dir, name):\n",
        "    with open(Path(base_dir) / f'{name}.pkl', 'wb') as f:\n",
        "      pickle.dump(self, f)\n",
        "\n",
        "  def _write_a_posting_list(self, w, writer, sort=False):\n",
        "    # sort the posting list by doc_id\n",
        "    pl = self._posting_list[w]\n",
        "    if sort:\n",
        "      pl = sorted(pl, key=itemgetter(0))\n",
        "    # convert to bytes\n",
        "    b = b''.join([(doc_id << 16 | (tf & TF_MASK)).to_bytes(TUPLE_SIZE, 'big')\n",
        "                  for doc_id, tf in pl])\n",
        "    # write to file(s)\n",
        "    locs = writer.write(b)\n",
        "    # save file locations to index\n",
        "    self.posting_locs[w].extend(locs) \n",
        "\n",
        "  def __getstate__(self):\n",
        "    \"\"\" Modify how the object is pickled by removing the internal posting lists\n",
        "        from the object's state dictionary. \n",
        "    \"\"\"\n",
        "    state = self.__dict__.copy()\n",
        "    del state['_posting_list']\n",
        "    return state\n",
        "\n",
        "  @staticmethod\n",
        "  def read_index(base_dir, name):\n",
        "    with open(Path(base_dir) / f'{name}.pkl', 'rb') as f:\n",
        "      return pickle.load(f)\n",
        "\n",
        "  @staticmethod\n",
        "  def delete_index(base_dir, name):\n",
        "    path_globals = Path(base_dir) / f'{name}.pkl'\n",
        "    path_globals.unlink()\n",
        "    for p in Path(base_dir).rglob(f'{name}_*.bin'):\n",
        "      p.unlink()"
      ],
      "execution_count": 296,
      "outputs": []
    },
    {
      "cell_type": "markdown",
      "metadata": {
        "id": "cd8XW8hw8Hx2"
      },
      "source": [
        "## Reading a posting list from disk"
      ]
    },
    {
      "cell_type": "markdown",
      "metadata": {
        "id": "5mBz-NAe8Tnu"
      },
      "source": [
        "**YOUR TASK (20 POINTS)**: Complete the implementation of `posting_lists_iter`, a generator function of the `InvertedIndex` class that reads one posting list at a time from disk."
      ]
    },
    {
      "cell_type": "code",
      "metadata": {
        "id": "mfsgcIC88Sx4"
      },
      "source": [
        "# The following inheritance (hack) lets us add a method to a class defined in a\n",
        "# separate cell.\n",
        "class InvertedIndex(InvertedIndex):\n",
        "  \n",
        "  def posting_lists_iter(self):\n",
        "    \"\"\" A generator that reads one posting list from disk and yields \n",
        "        a (word:str, [(doc_id:int, tf:int), ...]) tuple.\n",
        "    \"\"\"\n",
        "    with closing(MultiFileReader()) as reader:\n",
        "      for w, locs in self.posting_locs.items():\n",
        "        #print(w,locs)\n",
        "        # read a certain number of bytes into variable b\n",
        "        b = reader.read(locs, self.df[w] * TUPLE_SIZE)\n",
        "         \n",
        "        posting_list = []\n",
        "        # convert the bytes read into `b` to a proper posting list.\n",
        "        # YOUR CODE HERE\n",
        "        numbers =list(filter(lambda numbers : numbers !=0 ,list(b)))\n",
        "        #print(numbers)\n",
        "        index=0\n",
        "        while index+1 < len(numbers) :\n",
        "          posting_list.append((numbers[index],numbers[index+1]))\n",
        "          index+=2\n",
        "          \n",
        "        #print(posting_list)\n",
        "        #raise NotImplementedError()\n",
        "        yield w, posting_list"
      ],
      "execution_count": 297,
      "outputs": []
    },
    {
      "cell_type": "code",
      "metadata": {
        "id": "M4AGD4_XIkNL"
      },
      "source": [
        "# build tiny index and write to disk for testing purposes\n",
        "docs = {\n",
        "    1: ['dog', 'ate', 'a', 'dog'],\n",
        "    2: ['a', 'cat', 'ate', 'a', 'dog']\n",
        "}\n",
        "index = InvertedIndex(docs=docs)\n",
        "index.write('.', 'test')\n",
        "index2 = InvertedIndex.read_index('.', 'test')\n",
        "# read posting lists from disk\n",
        "words, pls = zip(*index2.posting_lists_iter())\n",
        "\n",
        "# test that terms are read in correct order\n",
        "assert words == ('a', 'ate', 'cat', 'dog')\n",
        "# test that posting lists are of correct length\n",
        "assert list(map(len, pls)) == [2, 2, 1, 2]\n",
        "# test that doc_id and tf are read properly\n",
        "assert pls == ([(1, 1), (2, 2)], [(1, 1), (2, 1)], [(2, 1)], [(1, 2), (2, 1)])\n",
        "# test that total tf of the word 'a' sums up correctly\n",
        "assert 3 == sum(map(itemgetter(1), pls[0]))"
      ],
      "execution_count": 298,
      "outputs": []
    },
    {
      "cell_type": "markdown",
      "metadata": {
        "id": "_AqFqXSM8csk"
      },
      "source": [
        "## Merging partial indices"
      ]
    },
    {
      "cell_type": "markdown",
      "metadata": {
        "id": "CGZfcTqK8lCu"
      },
      "source": [
        "When working with big data such as Wikipedia we want to parallelize the index creation on multiple machines, each of which processes a certain number of documents at a time, and then merge the resulting partial indices. In assignment #3, you will learn how to do this easily using the MapReduce framework. For now, you are only asked to implement the logic of merging an existing list of indices. Your implemention should generalize the 10 big blocks merge (MergeBlocks) we saw in class, which is also described in detail in the [textbook section about BSBI](https://nlp.stanford.edu/IR-book/html/htmledition/blocked-sort-based-indexing-1.html).\n",
        "\n",
        "**YOUR TASK (30 POINTS)**: Complete the implementation of `merge_indices` below, a function that merges the partial indices, and writes out a merged index. As always, the inverted index needs to be lexicographically ordered and with posting list sorted by doc_id. It is okay for the merge to load into memory all global dictionaries of the partial indices at once because they are usually small enough to fit in memory. However, posting lists/files are too big to fit in memory all at once, and **you are not allowed to load all posting list files into memory at once**. Specifically, you are required to load only a fixed number of posting lists into memory at any point in time (see implementation requirements below). \n",
        "\n",
        "The result of executing `merge_indices` should have two side-effects:\n",
        "1. The inverted index instance (self) should have correct global statistics. For example, the document frequency for each word should be an aggregation of DF's from the partial indices. \n",
        "2. The merged posting lists and global dictionaries are written out to disk.\n",
        "\n",
        "**Implementation requirements**:\n",
        "\n",
        "  - No sorting whatsoever. Partial indices are already sorted, just merge.\n",
        "  - No more than N posting lists are held in memory at any point in time during the merge, where N = len(names).\n",
        "  - The merged index needs to be lexicographically ordered and with posting lists sorted by doc_id. "
      ]
    },
    {
      "cell_type": "code",
      "metadata": {
        "id": "voIO9d098kuW"
      },
      "source": [
        "# inheritance hack again to add a class method\n",
        "class InvertedIndex(InvertedIndex): \n",
        "  def merge_indices(self, base_dir, names, output_name):\n",
        "    \"\"\" A function that merges the (partial) indices built from subsets of \n",
        "        documents, and writes out the merged posting lists.\n",
        "    Parameters:\n",
        "    -----------\n",
        "        base_dir: str\n",
        "            Directory where partial indices reside.\n",
        "        names: list of str\n",
        "            A list of index names to merge.\n",
        "        output_name: str\n",
        "            The name of the merged index.\n",
        "    \"\"\"\n",
        "    \n",
        "    indices = [InvertedIndex.read_index(base_dir, name) for name in names]\n",
        "    iters = [idx.posting_lists_iter() for idx in indices]\n",
        "    self.posting_locs = defaultdict(list)\n",
        "    \n",
        "    #### POSTINGS: merge & write out ####\n",
        "    # YOUR CODE HERE\n",
        "\n",
        "    self._posting_list=defaultdict(list)\n",
        "    for index in indices:\n",
        "      for i in index.df:\n",
        "          self.df[i]+=index.df[i]\n",
        "      for j in index.term_total:\n",
        "          self.term_total[j]+=index.term_total[j]\n",
        "\n",
        "      for iter in iters:\n",
        "        stop = False\n",
        "        while not stop:\n",
        "          try:\n",
        "            psl = next(iter)\n",
        "          except:\n",
        "            stop = True\n",
        "          else:\n",
        "            if psl[0] in self._posting_list:\n",
        "              for p in psl[1]:\n",
        "                self._posting_list[psl[0]].append(p)\n",
        "            else:\n",
        "              self._posting_list[psl[0]]=psl[1]\n",
        "\n",
        "    \n",
        "      \n",
        "    self.write(base_dir, output_name)\n",
        "    #### GLOBAL DICTIONARIES ####\n",
        "    self._write_globals(base_dir, output_name)"
      ],
      "execution_count": 299,
      "outputs": []
    },
    {
      "cell_type": "code",
      "metadata": {
        "id": "bmyabotOI7MM"
      },
      "source": [
        "# build a second tiny index and write it to disk for testing purposes\n",
        "docs = {\n",
        "    4: ['dog', 'ate', 'a', 'dog'],\n",
        "    3: ['a', 'giraffe', 'ate', 'a', 'dog']\n",
        "}\n",
        "index = InvertedIndex(docs=docs)\n",
        "index.write('.', 'test2')\n",
        "# merge\n",
        "InvertedIndex().merge_indices('.', ['test', 'test2'], 'merged')\n",
        "\n",
        "# test the files were created successfully\n",
        "assert Path('./merged.pkl').exists()\n",
        "assert all([Path(f'./merged_00{i}.bin').exists() for i in range(3)])\n",
        "# load merged index\n",
        "index3 = InvertedIndex.read_index('.', 'merged')\n",
        "# test df \n",
        "assert index3.df == {'a': 4, 'ate': 4, 'cat': 1, 'dog': 4, 'giraffe': 1}\n",
        "# test term_total\n",
        "assert index3.term_total == {'a': 6, 'ate': 4, 'cat': 1, 'dog': 6, 'giraffe': 1}\n",
        "# test posting locations\n",
        "assert index3.posting_locs == \\\n",
        "  {'a': [('merged_000.bin', 0)],\n",
        "   'ate': [('merged_000.bin', 24), ('merged_001.bin', 0)],\n",
        "   'cat': [('merged_001.bin', 18)],\n",
        "   'dog': [('merged_001.bin', 24), ('merged_002.bin', 0)],\n",
        "   'giraffe': [('merged_002.bin', 18)]}"
      ],
      "execution_count": 300,
      "outputs": []
    },
    {
      "cell_type": "markdown",
      "metadata": {
        "id": "hObsJ5xO9smj"
      },
      "source": [
        "Now that we're done testing our inverted index implementation, we'll switch to a decent index block size."
      ]
    },
    {
      "cell_type": "code",
      "metadata": {
        "id": "cCcAcoHs9qNO"
      },
      "source": [
        "BLOCK_SIZE = 1999998 # == 2MB-2bytes, a number that is divisible by TUPLE_SIZE."
      ],
      "execution_count": 301,
      "outputs": []
    },
    {
      "cell_type": "markdown",
      "metadata": {
        "id": "spwpxAUe9q9O"
      },
      "source": [
        "# Word stats and Zipf"
      ]
    },
    {
      "cell_type": "markdown",
      "metadata": {
        "id": "PRmROsABCdW_"
      },
      "source": [
        "Let's load the 2,000 pre-processed articles into memory:"
      ]
    },
    {
      "cell_type": "code",
      "metadata": {
        "id": "bAZEJ_SYYTr-"
      },
      "source": [
        "import os\n",
        "from pathlib import Path\n",
        "pkl_file = \"part15_preprocessed.pkl\"\n",
        "try:\n",
        "    if os.environ[\"assignment_2_data\"] is not None:\n",
        "      pkl_file = Path(os.environ[\"assignment_2_data\"])\n",
        "except:\n",
        "   Exception(\"Problem with one of the variables\")\n",
        "   \n",
        "assert os.path.exists(pkl_file), 'You must upload this file.'\n",
        "with open(pkl_file, 'rb') as f:\n",
        "  pages = pickle.load(f)  \n"
      ],
      "execution_count": 302,
      "outputs": []
    },
    {
      "cell_type": "markdown",
      "metadata": {
        "id": "1tZFjbBVTPDR"
      },
      "source": [
        "Each page is a tuple in the form of (page_id, title, body, [(target_page_id, anchor_text), ...])"
      ]
    },
    {
      "cell_type": "markdown",
      "metadata": {
        "id": "qH5cYtQFiL6K"
      },
      "source": [
        ""
      ]
    },
    {
      "cell_type": "markdown",
      "metadata": {
        "id": "xTs7GWFrdWm8"
      },
      "source": [
        "### Word counts combining title, body and anchor text"
      ]
    },
    {
      "cell_type": "markdown",
      "metadata": {
        "id": "ij4H74GrXeDG"
      },
      "source": [
        "\n",
        "**YOUR TASK (10 Points)**: Complete the implementation of `count_words` to count word occurences in the text of articles' title, body, and anchor text. "
      ]
    },
    {
      "cell_type": "code",
      "metadata": {
        "id": "E0IRW-fe38up"
      },
      "source": [
        "RE_WORD = re.compile(r\"\"\"[\\#\\@\\w](['\\-]?\\w){,24}\"\"\", re.UNICODE)\n",
        "def tokenize(text):\n",
        "  return [token.group() for token in RE_WORD.finditer(text.lower())]"
      ],
      "execution_count": 303,
      "outputs": []
    },
    {
      "cell_type": "code",
      "metadata": {
        "id": "tJza9mbHYwrz"
      },
      "source": [
        "def count_words(pages):\n",
        "  \"\"\" Count words in the text of articles' title, body, and anchor text using \n",
        "      the above `tokenize` function. \n",
        "  Parameters:\n",
        "  -----------\n",
        "  pages: list of tuples\n",
        "    Each tuple is a wiki article with id, title, body, and \n",
        "    [(target_article_id, anchor_text), ...]. \n",
        "  Returns:\n",
        "  --------\n",
        "  list of str\n",
        "    A list of tokens\n",
        "  \"\"\"\n",
        "  word_counts = Counter()\n",
        "  for wiki_id, title, body, links in pages:\n",
        "    \n",
        "    tokens = tokenize(title)\n",
        "    for i in tokens:\n",
        "      word_counts[i]+=1\n",
        "\n",
        "    # tokenize body and anchor text and count\n",
        "    body_tokens = tokenize(body)\n",
        "    for i in body_tokens:\n",
        "      word_counts[i]+=1\n",
        "\n",
        "\n",
        "  return word_counts"
      ],
      "execution_count": 304,
      "outputs": []
    },
    {
      "cell_type": "code",
      "metadata": {
        "id": "e4_rdIBJONUr"
      },
      "source": [
        "word_counts = count_words(pages)\n",
        "# check values of most common and least common words\n",
        "assert word_counts.most_common(1)[0] == ('the', 50795)\n",
        "assert word_counts.most_common()[-1][1] == 1\n",
        "# test the number of words in the 100 first articles in the corpus\n",
        "assert len(word_counts) == 72016\n",
        "# check that all words appear\n",
        "assert 'heart' in word_counts\n",
        "assert 'sanctuary' in word_counts\n",
        "assert 'pope' in word_counts"
      ],
      "execution_count": 305,
      "outputs": []
    },
    {
      "cell_type": "markdown",
      "metadata": {
        "id": "fJZy9sIgDbMF"
      },
      "source": [
        "## Filter words and apply stemming"
      ]
    },
    {
      "cell_type": "markdown",
      "metadata": {
        "id": "Ms7KE2uregH9"
      },
      "source": [
        "**YOUR TASK (10 points):** Complete the implementation of `filter_tokens` below, a function that return the list of tokens excluding certain tokens and applying stemming as needed. "
      ]
    },
    {
      "cell_type": "code",
      "metadata": {
        "id": "6wppoD_-t1VW"
      },
      "source": [
        "stemmer = PorterStemmer()\n",
        "# Getting tokens from the text while removing punctuations.\n",
        "def filter_tokens(tokens, tokens2remove=None, use_stemming=False):\n",
        "  ''' The function takes a list of tokens, filters out `tokens2remove` and \n",
        "      stem the tokens using `stemmer`. \n",
        "  Parameters:\n",
        "  -----------\n",
        "  tokens: list of str. \n",
        "    Input tokens.\n",
        "  tokens2remove: frozenset. \n",
        "    Tokens to remove (before stemming).\n",
        "  use_stemming: bool. \n",
        "    If true, apply stemmer.stem on tokens. \n",
        "  Returns:\n",
        "  --------\n",
        "  list of tokens from the text.\n",
        "  '''\n",
        "\n",
        "  \n",
        "  # YOUR CODE HERE\n",
        "  if tokens2remove != None:\n",
        "    tokens = [token for token in tokens if token not in tokens2remove]\n",
        "      \n",
        "  lst2=[]\n",
        "  if use_stemming:\n",
        "    tokens = [stemmer.stem(token) for token in tokens ]\n",
        "      \n",
        "  return tokens"
      ],
      "execution_count": 306,
      "outputs": []
    },
    {
      "cell_type": "code",
      "metadata": {
        "id": "ud5csR1CkeTy"
      },
      "source": [
        "# test text\n",
        "text = '''Oh, little prince! Bit by bit I came to understand the secrets of your sad little life... \n",
        "For a long time you had found your only entertainment in the quiet pleasure of looking at the sunset. \n",
        "I learned that new detail on the morning of the fourth day, when you said to me: \n",
        "\"I am very fond of sunsets. Come, let us go look at a sunset now\". \n",
        "\"But we must wait,\" I said. \n",
        "\"Wait? For what?\" \n",
        "\"For the sunset. We must wait until it is time.  \" \n",
        "At first you seemed to be very much surprised. And then you laughed to yourself. You said to me:\n",
        "\"I am always thinking that I am at home!\"'''\n",
        "\n",
        "tokens = tokenize(text)\n",
        "english_stopwords = frozenset(stopwords.words('english'))\n",
        "\n",
        "# test the number of tokens created\n",
        "assert len(filter_tokens(tokens)) == 115\n",
        "assert len(filter_tokens(tokens, english_stopwords, False)) == 51\n",
        "assert len(set(filter_tokens(tokens, frozenset([]), True))) == 69"
      ],
      "execution_count": 307,
      "outputs": []
    },
    {
      "cell_type": "markdown",
      "metadata": {
        "id": "5KrYc4nqEC9S"
      },
      "source": [
        "## Building our first inverted index"
      ]
    },
    {
      "cell_type": "markdown",
      "metadata": {
        "id": "JYqf7thN-AL3"
      },
      "source": [
        "We are now ready to process the corpus and create an inverted index. Thinking ahead of building a search engine, we want to have separate indices for the titles of articles, body of articles, and the anchor text associated with articles. This will allow us later on to create a ranking function that assigns different weights to these different components. For example, it is common to rank higher documents that match a query word in the title than a match in the body text. Here is how we will do it:"
      ]
    },
    {
      "cell_type": "code",
      "metadata": {
        "colab": {
          "base_uri": "https://localhost:8080/"
        },
        "id": "JSn1pGyo9aQU",
        "outputId": "90b72920-d468-409c-dd6e-e2c1a5ffd8dd"
      },
      "source": [
        "# create directories for the different indices \n",
        "!mkdir body_indices title_index anchor_index\n",
        "\n",
        "# default tokenizer keeping all words\n",
        "default_tokenizer = lambda text: tokenize(text)\n",
        "\n",
        "# define batch iterator\n",
        "def batch_iterator(it, batch_size=1000):\n",
        "  \"\"\" Generator that yields items in a batch. Yields the batch \n",
        "      index (0, 1, ..) and an iterable of items in each batch of `batch_size` \n",
        "      in length. \n",
        "  \"\"\"\n",
        "  for i, group in groupby(enumerate(it), \n",
        "                          lambda x: x[0] // batch_size):\n",
        "    _, batch = zip(*group)\n",
        "    yield i, batch\n",
        "\n",
        "def process_wiki(pages, index_name, tokenize_func=default_tokenizer):\n",
        "  \"\"\" Process wikipedia: tokenize article body, title, anchor text, and create\n",
        "      indices for them. Each index is named `index_name` and placed in a \n",
        "      directory under the current dir named 'body_indices', 'title_index' \n",
        "      and 'anchor_index', respectively. \n",
        "  Parameters:\n",
        "  -----------\n",
        "  pages: list of tuples\n",
        "    Each tuple is a wiki article with id, title, body, and \n",
        "    [(target_article_id, anchor_text), ...]. \n",
        "  index_name: str\n",
        "    The name for the index.\n",
        "  tokenize_func: function str -> list of str\n",
        "    Tokenization function that takes text as input and return a list of \n",
        "    tokens.\n",
        "  Returns:\n",
        "  --------\n",
        "  Three inverted index objects\n",
        "    body_index, title_index, anchor_index.\n",
        "  \"\"\"\n",
        "  # create the index for titles\n",
        "  title_index = InvertedIndex()\n",
        "  # collect anchor text tokens for each target article by its id\n",
        "  id2anchor_text = defaultdict(list)\n",
        "\n",
        "  # iterate over batches of pages from the dump\n",
        "  body_index_names = []\n",
        "  for batch_idx, batch_pages in batch_iterator(pages):\n",
        "    ids, titles, bodies, links = zip(*batch_pages)\n",
        "    target_ids, anchor_texts = zip(*[wl for l in links for wl in l])\n",
        "    # tokenize\n",
        "    titles = map(tokenize_func, titles)\n",
        "    bodies = map(tokenize_func, bodies)\n",
        "    anchor_texts = map(tokenize_func, anchor_texts)\n",
        "    # create a separate index of articles body for article in this batch\n",
        "    body_index = InvertedIndex()\n",
        "    for id, title, body in zip(ids, titles, bodies):\n",
        "      title_index.add_doc(id, title)\n",
        "      body_index.add_doc(id, body)\n",
        "    for target_id, anchor_text in zip(target_ids, anchor_texts):\n",
        "      id2anchor_text[target_id].extend(anchor_text)\n",
        "    body_index.write('./body_indices', f'{index_name}_{batch_idx}')\n",
        "    body_index_names.append(f'{index_name}_{batch_idx}')\n",
        "  # merge body indices from the different batches into one index and delete \n",
        "  # the parts\n",
        "  body_index = InvertedIndex()\n",
        "  #print(len(body_index_names))\n",
        "  body_index.merge_indices('./body_indices', \n",
        "                           body_index_names, index_name)\n",
        "  \n",
        "  for idx_name in body_index_names:\n",
        "    InvertedIndex.delete_index('./body_indices', idx_name)\n",
        "  title_index.write('./title_index', index_name)\n",
        "  # create index for anchor text\n",
        "  anchor_index = InvertedIndex()\n",
        "  for id, tokens in id2anchor_text.items():\n",
        "    anchor_index.add_doc(id, tokens)\n",
        "  anchor_index.write('./anchor_index', index_name)\n",
        "  return body_index, title_index, anchor_index"
      ],
      "execution_count": 308,
      "outputs": [
        {
          "output_type": "stream",
          "name": "stdout",
          "text": [
            "mkdir: cannot create directory ‘body_indices’: File exists\n",
            "mkdir: cannot create directory ‘title_index’: File exists\n",
            "mkdir: cannot create directory ‘anchor_index’: File exists\n"
          ]
        }
      ]
    },
    {
      "cell_type": "markdown",
      "metadata": {
        "id": "WK-yPROWw5_l"
      },
      "source": [
        "Let's create the actual index that includes all words (no filtering whatsoever):"
      ]
    },
    {
      "cell_type": "code",
      "metadata": {
        "id": "uWFh0JDenaUe"
      },
      "source": [
        "all_words_body, all_words_title, all_words_anchor = \\\n",
        "  process_wiki(pages, 'all_words')"
      ],
      "execution_count": 309,
      "outputs": []
    },
    {
      "cell_type": "markdown",
      "metadata": {
        "id": "LL0qgh7p-6iM"
      },
      "source": [
        "Using the index (or indices) we can easily look at some corpus statistics. Let's look at the most frequent words in body, title, and anchor text of articles:"
      ]
    },
    {
      "cell_type": "code",
      "metadata": {
        "colab": {
          "base_uri": "https://localhost:8080/",
          "height": 194
        },
        "id": "Vr7ElsuA4o7_",
        "outputId": "090d4005-8f7c-4b61-d6f5-1f837d367824"
      },
      "source": [
        "top_n = 5\n",
        "top_words = pd.DataFrame(\n",
        "    {'body_top':   all_words_body.term_total.most_common(top_n),\n",
        "     'title_top':  all_words_title.term_total.most_common(top_n),\n",
        "     'anchor_top': all_words_anchor.term_total.most_common(top_n)}\n",
        ")\n",
        "top_words"
      ],
      "execution_count": 310,
      "outputs": [
        {
          "output_type": "execute_result",
          "data": {
            "application/vnd.google.colaboratory.module+javascript": "\n      import \"https://ssl.gstatic.com/colaboratory/data_table/a6224c040fa35dcf/data_table.js\";\n\n      window.createDataTable({\n        data: [[{\n            'v': 0,\n            'f': \"0\",\n        },\n[\"the\", 50706],\n[\"of\", 131],\n[\"of\", 3105]],\n [{\n            'v': 1,\n            'f': \"1\",\n        },\n[\"of\", 25868],\n[\"the\", 89],\n[\"the\", 1931]],\n [{\n            'v': 2,\n            'f': \"2\",\n        },\n[\"in\", 23718],\n[\"district\", 83],\n[\"new\", 936]],\n [{\n            'v': 3,\n            'f': \"3\",\n        },\n[\"and\", 21133],\n[\"house\", 43],\n[\"district\", 852]],\n [{\n            'v': 4,\n            'f': \"4\",\n        },\n[\"a\", 15141],\n[\"season\", 41],\n[\"state\", 837]]],\n        columns: [[\"number\", \"index\"], [\"string\", \"body_top\"], [\"string\", \"title_top\"], [\"string\", \"anchor_top\"]],\n        columnOptions: [{\"width\": \"1px\", \"className\": \"index_column\"}],\n        rowsPerPage: 25,\n        helpUrl: \"https://colab.research.google.com/notebooks/data_table.ipynb\",\n        suppressOutputScrolling: true,\n        minimumWidth: undefined,\n      });\n    ",
            "text/html": [
              "<div>\n",
              "<style scoped>\n",
              "    .dataframe tbody tr th:only-of-type {\n",
              "        vertical-align: middle;\n",
              "    }\n",
              "\n",
              "    .dataframe tbody tr th {\n",
              "        vertical-align: top;\n",
              "    }\n",
              "\n",
              "    .dataframe thead th {\n",
              "        text-align: right;\n",
              "    }\n",
              "</style>\n",
              "<table border=\"1\" class=\"dataframe\">\n",
              "  <thead>\n",
              "    <tr style=\"text-align: right;\">\n",
              "      <th></th>\n",
              "      <th>body_top</th>\n",
              "      <th>title_top</th>\n",
              "      <th>anchor_top</th>\n",
              "    </tr>\n",
              "  </thead>\n",
              "  <tbody>\n",
              "    <tr>\n",
              "      <th>0</th>\n",
              "      <td>(the, 50706)</td>\n",
              "      <td>(of, 131)</td>\n",
              "      <td>(of, 3105)</td>\n",
              "    </tr>\n",
              "    <tr>\n",
              "      <th>1</th>\n",
              "      <td>(of, 25868)</td>\n",
              "      <td>(the, 89)</td>\n",
              "      <td>(the, 1931)</td>\n",
              "    </tr>\n",
              "    <tr>\n",
              "      <th>2</th>\n",
              "      <td>(in, 23718)</td>\n",
              "      <td>(district, 83)</td>\n",
              "      <td>(new, 936)</td>\n",
              "    </tr>\n",
              "    <tr>\n",
              "      <th>3</th>\n",
              "      <td>(and, 21133)</td>\n",
              "      <td>(house, 43)</td>\n",
              "      <td>(district, 852)</td>\n",
              "    </tr>\n",
              "    <tr>\n",
              "      <th>4</th>\n",
              "      <td>(a, 15141)</td>\n",
              "      <td>(season, 41)</td>\n",
              "      <td>(state, 837)</td>\n",
              "    </tr>\n",
              "  </tbody>\n",
              "</table>\n",
              "</div>"
            ],
            "text/plain": [
              "       body_top       title_top       anchor_top\n",
              "0  (the, 50706)       (of, 131)       (of, 3105)\n",
              "1   (of, 25868)       (the, 89)      (the, 1931)\n",
              "2   (in, 23718)  (district, 83)       (new, 936)\n",
              "3  (and, 21133)     (house, 43)  (district, 852)\n",
              "4    (a, 15141)    (season, 41)     (state, 837)"
            ]
          },
          "metadata": {},
          "execution_count": 310
        }
      ]
    },
    {
      "cell_type": "markdown",
      "metadata": {
        "id": "Smrx6a6f7l-_"
      },
      "source": [
        "**Point to consider**: Why is the word 'of' more frequent than 'the' in titles and anchor texts while it isn't more frequent in the body of articles? How would you test this hypothesis *scientifically*?"
      ]
    },
    {
      "cell_type": "markdown",
      "metadata": {
        "id": "E5IBI7L7BbbU"
      },
      "source": [
        "## Corpus stopwords"
      ]
    },
    {
      "cell_type": "markdown",
      "metadata": {
        "id": "0VS6Mba9AdLl"
      },
      "source": [
        "In order to create a list of *corpus* stopwords, words that are not indicative of relevance, we will examine the top 100 words by their document frequency (df). We'll produce those lists excluding English stopwords and words that have fewer than three characters. "
      ]
    },
    {
      "cell_type": "code",
      "metadata": {
        "colab": {
          "base_uri": "https://localhost:8080/",
          "height": 624
        },
        "id": "OVd-Vk_B3a3C",
        "outputId": "30b9b690-0898-4632-f6b7-c127fae78e96"
      },
      "source": [
        "# Looking at top words excluding stopwords and words with fewer than three \n",
        "# characters\n",
        "english_stopwords = frozenset(stopwords.words('english'))\n",
        "def filtered_counter(counter):\n",
        "  \"\"\" created a new counter without stopwords and len(word)<3. \"\"\"\n",
        "  return  Counter(\n",
        "    {k:v for k,v in counter.items() \n",
        "     if len(k) > 2 and not k in english_stopwords}\n",
        "  )\n",
        "cnt_body = filtered_counter(all_words_body.df)\n",
        "cnt_title = filtered_counter(all_words_title.df)\n",
        "cnt_anchor = filtered_counter(all_words_anchor.df)\n",
        "top_n = 100\n",
        "top_words = pd.DataFrame(\n",
        "    {'body_top':   cnt_body.most_common(top_n),\n",
        "     'title_top':  cnt_title.most_common(top_n),\n",
        "     'anchor_top': cnt_anchor.most_common(top_n)}\n",
        ")\n",
        "top_words"
      ],
      "execution_count": 311,
      "outputs": [
        {
          "output_type": "execute_result",
          "data": {
            "application/vnd.google.colaboratory.module+javascript": "\n      import \"https://ssl.gstatic.com/colaboratory/data_table/a6224c040fa35dcf/data_table.js\";\n\n      window.createDataTable({\n        data: [[{\n            'v': 0,\n            'f': \"0\",\n        },\n[\"category\", 1812],\n[\"district\", 83],\n[\"new\", 374]],\n [{\n            'v': 1,\n            'f': \"1\",\n        },\n[\"references\", 1604],\n[\"house\", 43],\n[\"university\", 284]],\n [{\n            'v': 2,\n            'f': \"2\",\n        },\n[\"also\", 1017],\n[\"season\", 41],\n[\"college\", 277]],\n [{\n            'v': 3,\n            'f': \"3\",\n        },\n[\"links\", 967],\n[\"football\", 39],\n[\"national\", 276]],\n [{\n            'v': 4,\n            'f': \"4\",\n        },\n[\"external\", 960],\n[\"amara\", 36],\n[\"kim\", 256]],\n [{\n            'v': 5,\n            'f': \"5\",\n        },\n[\"first\", 652],\n[\"disambiguation\", 32],\n[\"lee\", 253]],\n [{\n            'v': 6,\n            'f': \"6\",\n        },\n[\"people\", 584],\n[\"station\", 30],\n[\"list\", 234]],\n [{\n            'v': 7,\n            'f': \"7\",\n        },\n[\"see\", 577],\n[\"2008\", 28],\n[\"state\", 229]],\n [{\n            'v': 8,\n            'f': \"8\",\n        },\n[\"new\", 575],\n[\"school\", 28],\n[\"john\", 220]],\n [{\n            'v': 9,\n            'f': \"9\",\n        },\n[\"one\", 573],\n[\"list\", 27],\n[\"school\", 217]],\n [{\n            'v': 10,\n            'f': \"10\",\n        },\n[\"may\", 513],\n[\"team\", 24],\n[\"world\", 205]],\n [{\n            'v': 11,\n            'f': \"11\",\n        },\n[\"two\", 493],\n[\"ban\", 24],\n[\"international\", 197]],\n [{\n            'v': 12,\n            'f': \"12\",\n        },\n[\"american\", 453],\n[\"carolina\", 21],\n[\"league\", 196]],\n [{\n            'v': 13,\n            'f': \"13\",\n        },\n[\"district\", 447],\n[\"john\", 20],\n[\"united\", 185]],\n [{\n            'v': 14,\n            'f': \"14\",\n        },\n[\"national\", 445],\n[\"boston\", 19],\n[\"hassan\", 174]],\n [{\n            'v': 15,\n            'f': \"15\",\n        },\n[\"united\", 424],\n[\"east\", 19],\n[\"county\", 169]],\n [{\n            'v': 16,\n            'f': \"16\",\n        },\n[\"births\", 419],\n[\"pirates\", 19],\n[\"district\", 163]],\n [{\n            'v': 17,\n            'f': \"17\",\n        },\n[\"born\", 415],\n[\"celtics\", 18],\n[\"air\", 159]],\n [{\n            'v': 18,\n            'f': \"18\",\n        },\n[\"time\", 409],\n[\"album\", 16],\n[\"city\", 157]],\n [{\n            'v': 19,\n            'f': \"19\",\n        },\n[\"year\", 400],\n[\"historic\", 16],\n[\"cup\", 150]],\n [{\n            'v': 20,\n            'f': \"20\",\n        },\n[\"state\", 399],\n[\"council\", 15],\n[\"season\", 141]],\n [{\n            'v': 21,\n            'f': \"21\",\n        },\n[\"years\", 378],\n[\"county\", 15],\n[\"utah\", 141]],\n [{\n            'v': 22,\n            'f': \"22\",\n        },\n[\"places\", 374],\n[\"new\", 14],\n[\"day\", 128]],\n [{\n            'v': 23,\n            'f': \"23\",\n        },\n[\"history\", 370],\n[\"island\", 14],\n[\"american\", 127]],\n [{\n            'v': 24,\n            'f': \"24\",\n        },\n[\"2008\", 367],\n[\"light\", 13],\n[\"airport\", 125]],\n [{\n            'v': 25,\n            'f': \"25\",\n        },\n[\"states\", 354],\n[\"league\", 12],\n[\"york\", 124]],\n [{\n            'v': 26,\n            'f': \"26\",\n        },\n[\"three\", 352],\n[\"united\", 11],\n[\"california\", 123]],\n [{\n            'v': 27,\n            'f': \"27\",\n        },\n[\"later\", 349],\n[\"college\", 11],\n[\"2008\", 122]],\n [{\n            'v': 28,\n            'f': \"28\",\n        },\n[\"known\", 345],\n[\"national\", 10],\n[\"stadium\", 122]],\n [{\n            'v': 29,\n            'f': \"29\",\n        },\n[\"world\", 342],\n[\"farm\", 10],\n[\"states\", 120]],\n [{\n            'v': 30,\n            'f': \"30\",\n        },\n[\"thumb\", 340],\n[\"film\", 10],\n[\"san\", 116]],\n [{\n            'v': 31,\n            'f': \"31\",\n        },\n[\"second\", 328],\n[\"community\", 10],\n[\"football\", 115]],\n [{\n            'v': 32,\n            'f': \"32\",\n        },\n[\"including\", 328],\n[\"toyota\", 10],\n[\"park\", 113]],\n [{\n            'v': 33,\n            'f': \"33\",\n        },\n[\"city\", 313],\n[\"corolla\", 10],\n[\"south\", 112]],\n [{\n            'v': 34,\n            'f': \"34\",\n        },\n[\"living\", 309],\n[\"george\", 9],\n[\"north\", 111]],\n [{\n            'v': 35,\n            'f': \"35\",\n        },\n[\"part\", 303],\n[\"2007\", 9],\n[\"william\", 111]],\n [{\n            'v': 36,\n            'f': \"36\",\n        },\n[\"made\", 303],\n[\"louis\", 8],\n[\"mexico\", 111]],\n [{\n            'v': 37,\n            'f': \"37\",\n        },\n[\"early\", 297],\n[\"men's\", 8],\n[\"island\", 110]],\n [{\n            'v': 38,\n            'f': \"38\",\n        },\n[\"became\", 295],\n[\"footballer\", 8],\n[\"river\", 108]],\n [{\n            'v': 39,\n            'f': \"39\",\n        },\n[\"2007\", 293],\n[\"baseball\", 8],\n[\"division\", 105]],\n [{\n            'v': 40,\n            'f': \"40\",\n        },\n[\"april\", 286],\n[\"lee\", 8],\n[\"david\", 105]],\n [{\n            'v': 41,\n            'f': \"41\",\n        },\n[\"south\", 283],\n[\"mill\", 8],\n[\"war\", 103]],\n [{\n            'v': 42,\n            'f': \"42\",\n        },\n[\"county\", 276],\n[\"william\", 8],\n[\"music\", 99]],\n [{\n            'v': 43,\n            'f': \"43\",\n        },\n[\"name\", 275],\n[\"championship\", 7],\n[\"high\", 98]],\n [{\n            'v': 44,\n            'f': \"44\",\n        },\n[\"family\", 275],\n[\"states\", 7],\n[\"west\", 96]],\n [{\n            'v': 45,\n            'f': \"45\",\n        },\n[\"since\", 275],\n[\"david\", 7],\n[\"george\", 94]],\n [{\n            'v': 46,\n            'f': \"46\",\n        },\n[\"school\", 274],\n[\"university\", 7],\n[\"center\", 94]],\n [{\n            'v': 47,\n            'f': \"47\",\n        },\n[\"used\", 274],\n[\"election\", 7],\n[\"championship\", 90]],\n [{\n            'v': 48,\n            'f': \"48\",\n        },\n[\"village\", 269],\n[\"american\", 7],\n[\"michael\", 89]],\n [{\n            'v': 49,\n            'f': \"49\",\n        },\n[\"september\", 267],\n[\"sports\", 7],\n[\"association\", 87]],\n [{\n            'v': 50,\n            'f': \"50\",\n        },\n[\"june\", 259],\n[\"hill\", 7],\n[\"church\", 87]],\n [{\n            'v': 51,\n            'f': \"51\",\n        },\n[\"life\", 259],\n[\"club\", 7],\n[\"james\", 86]],\n [{\n            'v': 52,\n            'f': \"52\",\n        },\n[\"following\", 259],\n[\"site\", 7],\n[\"council\", 86]],\n [{\n            'v': 53,\n            'f': \"53\",\n        },\n[\"several\", 258],\n[\"park\", 6],\n[\"film\", 85]],\n [{\n            'v': 54,\n            'f': \"54\",\n        },\n[\"well\", 258],\n[\"blues\", 6],\n[\"house\", 85]],\n [{\n            'v': 55,\n            'f': \"55\",\n        },\n[\"university\", 257],\n[\"international\", 6],\n[\"general\", 84]],\n [{\n            'v': 56,\n            'f': \"56\",\n        },\n[\"would\", 253],\n[\"baltimore\", 6],\n[\"team\", 82]],\n [{\n            'v': 57,\n            'f': \"57\",\n        },\n[\"four\", 248],\n[\"european\", 6],\n[\"hall\", 82]],\n [{\n            'v': 58,\n            'f': \"58\",\n        },\n[\"team\", 246],\n[\"charles\", 6],\n[\"series\", 81]],\n [{\n            'v': 59,\n            'f': \"59\",\n        },\n[\"many\", 245],\n[\"series\", 6],\n[\"paul\", 80]],\n [{\n            'v': 60,\n            'f': \"60\",\n        },\n[\"march\", 245],\n[\"cup\", 6],\n[\"station\", 79]],\n [{\n            'v': 61,\n            'f': \"61\",\n        },\n[\"left\", 243],\n[\"henry\", 6],\n[\"mount\", 79]],\n [{\n            'v': 62,\n            'f': \"62\",\n        },\n[\"former\", 242],\n[\"wrestling\", 6],\n[\"hasan\", 78]],\n [{\n            'v': 63,\n            'f': \"63\",\n        },\n[\"2006\", 242],\n[\"summer\", 6],\n[\"army\", 77]],\n [{\n            'v': 64,\n            'f': \"64\",\n        },\n[\"october\", 241],\n[\"olympics\", 6],\n[\"disambiguation\", 76]],\n [{\n            'v': 65,\n            'f': \"65\",\n        },\n[\"work\", 241],\n[\"trox\", 6],\n[\"award\", 75]],\n [{\n            'v': 66,\n            'f': \"66\",\n        },\n[\"list\", 239],\n[\"company\", 6],\n[\"east\", 74]],\n [{\n            'v': 67,\n            'f': \"67\",\n        },\n[\"john\", 239],\n[\"church\", 6],\n[\"peter\", 73]],\n [{\n            'v': 68,\n            'f': \"68\",\n        },\n[\"july\", 237],\n[\"thomas\", 6],\n[\"lake\", 72]],\n [{\n            'v': 69,\n            'f': \"69\",\n        },\n[\"career\", 236],\n[\"martin\", 6],\n[\"first\", 70]],\n [{\n            'v': 70,\n            'f': \"70\",\n        },\n[\"however\", 235],\n[\"arnold\", 6],\n[\"party\", 70]],\n [{\n            'v': 71,\n            'f': \"71\",\n        },\n[\"august\", 233],\n[\"south\", 6],\n[\"mark\", 70]],\n [{\n            'v': 72,\n            'f': \"72\",\n        },\n[\"located\", 231],\n[\"james\", 6],\n[\"mountain\", 70]],\n [{\n            'v': 73,\n            'f': \"73\",\n        },\n[\"north\", 231],\n[\"high\", 6],\n[\"richard\", 69]],\n [{\n            'v': 74,\n            'f': \"74\",\n        },\n[\"official\", 228],\n[\"khan\", 6],\n[\"royal\", 67]],\n [{\n            'v': 75,\n            'f': \"75\",\n        },\n[\"right\", 226],\n[\"musician\", 5],\n[\"british\", 66]],\n [{\n            'v': 76,\n            'f': \"76\",\n        },\n[\"2009\", 226],\n[\"1992\", 5],\n[\"arena\", 65]],\n [{\n            'v': 77,\n            'f': \"77\",\n        },\n[\"high\", 226],\n[\"york\", 5],\n[\"battle\", 64]],\n [{\n            'v': 78,\n            'f': \"78\",\n        },\n[\"november\", 226],\n[\"maryland\", 5],\n[\"los\", 64]],\n [{\n            'v': 79,\n            'f': \"79\",\n        },\n[\"series\", 226],\n[\"williams\", 5],\n[\"field\", 64]],\n [{\n            'v': 80,\n            'f': \"80\",\n        },\n[\"international\", 225],\n[\"jim\", 5],\n[\"force\", 64]],\n [{\n            'v': 81,\n            'f': \"81\",\n        },\n[\"war\", 223],\n[\"bill\", 5],\n[\"star\", 62]],\n [{\n            'v': 82,\n            'f': \"82\",\n        },\n[\"february\", 223],\n[\"street\", 5],\n[\"open\", 62]],\n [{\n            'v': 83,\n            'f': \"83\",\n        },\n[\"group\", 222],\n[\"war\", 5],\n[\"group\", 61]],\n [{\n            'v': 84,\n            'f': \"84\",\n        },\n[\"deaths\", 221],\n[\"open\", 5],\n[\"2010\", 61]],\n [{\n            'v': 85,\n            'f': \"85\",\n        },\n[\"york\", 219],\n[\"north\", 5],\n[\"robert\", 61]],\n [{\n            'v': 86,\n            'f': \"86\",\n        },\n[\"established\", 218],\n[\"surname\", 5],\n[\"academy\", 61]],\n [{\n            'v': 87,\n            'f': \"87\",\n        },\n[\"called\", 217],\n[\"metro\", 5],\n[\"clt\", 61]],\n [{\n            'v': 88,\n            'f': \"88\",\n        },\n[\"association\", 216],\n[\"railway\", 5],\n[\"washington\", 60]],\n [{\n            'v': 89,\n            'f': \"89\",\n        },\n[\"began\", 216],\n[\"group\", 5],\n[\"2007\", 60]],\n [{\n            'v': 90,\n            'f': \"90\",\n        },\n[\"january\", 216],\n[\"rhode\", 5],\n[\"tal\", 60]],\n [{\n            'v': 91,\n            'f': \"91\",\n        },\n[\"com\", 214],\n[\"regiment\", 5],\n[\"theatre\", 59]],\n [{\n            'v': 92,\n            'f': \"92\",\n        },\n[\"english\", 213],\n[\"black\", 5],\n[\"club\", 58]],\n [{\n            'v': 93,\n            'f': \"93\",\n        },\n[\"based\", 213],\n[\"1920\", 5],\n[\"2009\", 57]],\n [{\n            'v': 94,\n            'f': \"94\",\n        },\n[\"named\", 213],\n[\"greco-roman\", 5],\n[\"base\", 57]],\n [{\n            'v': 95,\n            'f': \"95\",\n        },\n[\"2004\", 211],\n[\"rules\", 5],\n[\"province\", 56]],\n [{\n            'v': 96,\n            'f': \"96\",\n        },\n[\"built\", 211],\n[\"discography\", 5],\n[\"rhode\", 56]],\n [{\n            'v': 97,\n            'f': \"97\",\n        },\n[\"house\", 211],\n[\"paraguay\", 5],\n[\"science\", 55]],\n [{\n            'v': 98,\n            'f': \"98\",\n        },\n[\"2010\", 211],\n[\"destinations\", 5],\n[\"european\", 55]],\n [{\n            'v': 99,\n            'f': \"99\",\n        },\n[\"major\", 207],\n[\"people\", 5],\n[\"best\", 54]]],\n        columns: [[\"number\", \"index\"], [\"string\", \"body_top\"], [\"string\", \"title_top\"], [\"string\", \"anchor_top\"]],\n        columnOptions: [{\"width\": \"1px\", \"className\": \"index_column\"}],\n        rowsPerPage: 25,\n        helpUrl: \"https://colab.research.google.com/notebooks/data_table.ipynb\",\n        suppressOutputScrolling: true,\n        minimumWidth: undefined,\n      });\n    ",
            "text/html": [
              "<div>\n",
              "<style scoped>\n",
              "    .dataframe tbody tr th:only-of-type {\n",
              "        vertical-align: middle;\n",
              "    }\n",
              "\n",
              "    .dataframe tbody tr th {\n",
              "        vertical-align: top;\n",
              "    }\n",
              "\n",
              "    .dataframe thead th {\n",
              "        text-align: right;\n",
              "    }\n",
              "</style>\n",
              "<table border=\"1\" class=\"dataframe\">\n",
              "  <thead>\n",
              "    <tr style=\"text-align: right;\">\n",
              "      <th></th>\n",
              "      <th>body_top</th>\n",
              "      <th>title_top</th>\n",
              "      <th>anchor_top</th>\n",
              "    </tr>\n",
              "  </thead>\n",
              "  <tbody>\n",
              "    <tr>\n",
              "      <th>0</th>\n",
              "      <td>(category, 1812)</td>\n",
              "      <td>(district, 83)</td>\n",
              "      <td>(new, 374)</td>\n",
              "    </tr>\n",
              "    <tr>\n",
              "      <th>1</th>\n",
              "      <td>(references, 1604)</td>\n",
              "      <td>(house, 43)</td>\n",
              "      <td>(university, 284)</td>\n",
              "    </tr>\n",
              "    <tr>\n",
              "      <th>2</th>\n",
              "      <td>(also, 1017)</td>\n",
              "      <td>(season, 41)</td>\n",
              "      <td>(college, 277)</td>\n",
              "    </tr>\n",
              "    <tr>\n",
              "      <th>3</th>\n",
              "      <td>(links, 967)</td>\n",
              "      <td>(football, 39)</td>\n",
              "      <td>(national, 276)</td>\n",
              "    </tr>\n",
              "    <tr>\n",
              "      <th>4</th>\n",
              "      <td>(external, 960)</td>\n",
              "      <td>(amara, 36)</td>\n",
              "      <td>(kim, 256)</td>\n",
              "    </tr>\n",
              "    <tr>\n",
              "      <th>...</th>\n",
              "      <td>...</td>\n",
              "      <td>...</td>\n",
              "      <td>...</td>\n",
              "    </tr>\n",
              "    <tr>\n",
              "      <th>95</th>\n",
              "      <td>(2004, 211)</td>\n",
              "      <td>(rules, 5)</td>\n",
              "      <td>(province, 56)</td>\n",
              "    </tr>\n",
              "    <tr>\n",
              "      <th>96</th>\n",
              "      <td>(built, 211)</td>\n",
              "      <td>(discography, 5)</td>\n",
              "      <td>(rhode, 56)</td>\n",
              "    </tr>\n",
              "    <tr>\n",
              "      <th>97</th>\n",
              "      <td>(house, 211)</td>\n",
              "      <td>(paraguay, 5)</td>\n",
              "      <td>(science, 55)</td>\n",
              "    </tr>\n",
              "    <tr>\n",
              "      <th>98</th>\n",
              "      <td>(2010, 211)</td>\n",
              "      <td>(destinations, 5)</td>\n",
              "      <td>(european, 55)</td>\n",
              "    </tr>\n",
              "    <tr>\n",
              "      <th>99</th>\n",
              "      <td>(major, 207)</td>\n",
              "      <td>(people, 5)</td>\n",
              "      <td>(best, 54)</td>\n",
              "    </tr>\n",
              "  </tbody>\n",
              "</table>\n",
              "<p>100 rows × 3 columns</p>\n",
              "</div>"
            ],
            "text/plain": [
              "              body_top          title_top         anchor_top\n",
              "0     (category, 1812)     (district, 83)         (new, 374)\n",
              "1   (references, 1604)        (house, 43)  (university, 284)\n",
              "2         (also, 1017)       (season, 41)     (college, 277)\n",
              "3         (links, 967)     (football, 39)    (national, 276)\n",
              "4      (external, 960)        (amara, 36)         (kim, 256)\n",
              "..                 ...                ...                ...\n",
              "95         (2004, 211)         (rules, 5)     (province, 56)\n",
              "96        (built, 211)   (discography, 5)        (rhode, 56)\n",
              "97        (house, 211)      (paraguay, 5)      (science, 55)\n",
              "98         (2010, 211)  (destinations, 5)     (european, 55)\n",
              "99        (major, 207)        (people, 5)         (best, 54)\n",
              "\n",
              "[100 rows x 3 columns]"
            ]
          },
          "metadata": {},
          "execution_count": 311
        }
      ]
    },
    {
      "cell_type": "markdown",
      "metadata": {
        "id": "sfLD-Ic_26rh"
      },
      "source": [
        "**YOUR TASK (10 Points):** Complete the implementation of `get_corpus_stopwords` below to create a list of corpus stopwords. To determine which words are corpus stopwords, look at the above table of 100 most common words in body, title, and anchor text. Include as corpus stopword any word that you believe will not be helpful for document retrieval and/or relevance."
      ]
    },
    {
      "cell_type": "code",
      "metadata": {
        "id": "fKW4cc7ygF49"
      },
      "source": [
        "def get_corpus_stopwords():\n",
        "  \"\"\" Returns a list of corpus stopwords \"\"\"\n",
        "  # YOUR CODE HERE\n",
        "  stop_words = []\n",
        "  words, pls = zip(*all_words_body.posting_lists_iter())\n",
        "  words2, pls = zip(*all_words_title.posting_lists_iter())\n",
        "  words3, pls = zip(*all_words_anchor.posting_lists_iter())\n",
        "  #print(len(words),len(words2),len(words3))\n",
        "  for arr in top_words.values :\n",
        "    for i in range(3):\n",
        "      if arr[i][1]>800:\n",
        "        stop_words.append(arr[i][0])\n",
        " \n",
        "  words4 = top_words.values[0]\n",
        "  \n",
        "  return stop_words\n",
        "\n",
        "corpus_stopwords = get_corpus_stopwords()"
      ],
      "execution_count": 312,
      "outputs": []
    },
    {
      "cell_type": "code",
      "metadata": {
        "id": "aMiLrVXa7YYC"
      },
      "source": [
        "# test corpus stopwords size:\n",
        "assert len(corpus_stopwords)>2\n",
        "assert len(corpus_stopwords)<20\n",
        "# hash stopword list\n",
        "corpus_stopwords_hashed = list(map(_hash, corpus_stopwords))\n",
        "# test words\n",
        "assert '3eb5e055b6' in corpus_stopwords_hashed, 'oops, you missed a word'\n",
        "assert 'c25d1b9329' in corpus_stopwords_hashed, 'oops, you missed a word'\n",
        "assert '98e786f146' not in corpus_stopwords, 'oops, you added a wrong word'"
      ],
      "execution_count": 313,
      "outputs": []
    },
    {
      "cell_type": "markdown",
      "metadata": {
        "id": "axS60u8qLD0I"
      },
      "source": [
        "**Additional points to consider:** \n",
        " \n",
        "*   Think of two advantages of using document frequecy (df) instead of word frequency in the corpus in identifying corpus stopwords.\n",
        "*   Should the word 'thumb' be part of the corpus stopwords list?  \n",
        "*   Should the word 'new' be part of the corpus stopwords list? \n",
        "\n"
      ]
    },
    {
      "cell_type": "markdown",
      "metadata": {
        "id": "usQ4VZMDJKMV"
      },
      "source": [
        "## Zipf's law "
      ]
    },
    {
      "cell_type": "markdown",
      "metadata": {
        "id": "-nVepOXJjlMN"
      },
      "source": [
        "Let's examine Zipf's law in our corpus. \n",
        "\n",
        "**YOUR TASK (5 Points):** Complete the implementation of `create_zipfs_graph` to plot Zipf's law on a log-log scale. "
      ]
    },
    {
      "cell_type": "code",
      "metadata": {
        "id": "kUd92V9zqu5P"
      },
      "source": [
        "def create_zipfs_graph(word_counts):\n",
        "  ''' Plot a log-log scale Zipf's law graph.\n",
        "  Parameters:\n",
        "  -----------\n",
        "  word_counts: Counter\n",
        "    A counter of term occurences in a corpus. \n",
        "  Returns:\n",
        "  --------\n",
        "  rank: list of int\n",
        "    Rank of words (x-axis of Zipf's law)\n",
        "  frequency: list of int\n",
        "    Count of word occurences (y-axis of Zipf's law)\n",
        "  '''\n",
        "  # Assign the appropriate values to the variables rank and frequency used by \n",
        "  # the ploting function. \n",
        "  # YOUR CODE HERE\n",
        "  #print(word_counts)\n",
        "  frequency =[]\n",
        "  rank =[]\n",
        "  k=1\n",
        "  for i in sorted(word_counts.values(),reverse=True):\n",
        "    frequency.append(i)\n",
        "    rank.append(k) \n",
        "    k+=1\n",
        "  plt.loglog(rank, frequency, '.')\n",
        "  return rank, frequency"
      ],
      "execution_count": 314,
      "outputs": []
    },
    {
      "cell_type": "code",
      "metadata": {
        "colab": {
          "base_uri": "https://localhost:8080/",
          "height": 269
        },
        "id": "xTrHIQBCJJs-",
        "outputId": "9d15958a-75be-46e9-a076-6c96060ee4cd"
      },
      "source": [
        "# Zipf's law for words in the corpus, excluding stopwords and words with fewer\n",
        "# than 3 characters.\n",
        "cnt_body = filtered_counter(all_words_body.term_total)\n",
        "rank, frequency = create_zipfs_graph(cnt_body)\n",
        "\n",
        "# test rank\n",
        "assert rank[0] == 1\n",
        "assert np.diff(rank).max() == 1\n",
        "assert np.diff(rank).min() == 1\n",
        "assert 70787 == len(rank)\n",
        "# test frequency\n",
        "assert 9266 == frequency[0]\n",
        "assert all([d<=0 for d in np.diff(frequency)])\n",
        "assert 52373 == sum(frequency[:40])\n",
        "assert 38421 == sum([1 for f in frequency if f==1])\n",
        "assert 10104 == sum([1 for f in frequency if f==2])"
      ],
      "execution_count": 315,
      "outputs": [
        {
          "output_type": "display_data",
          "data": {
            "image/png": "[encoded data removed]",
            "text/plain": [
              "<Figure size 432x288 with 1 Axes>"
            ]
          },
          "metadata": {
            "needs_background": "light"
          }
        }
      ]
    },
    {
      "cell_type": "markdown",
      "metadata": {
        "id": "ZBGzSawrKH9c"
      },
      "source": [
        "**Point to consider**: If we want to reduce index size, are we better off removing the few top words or the many infrequent words? What would be the implications for retrieval quality?"
      ]
    },
    {
      "cell_type": "markdown",
      "metadata": {
        "id": "h2FfPa-BO_jB"
      },
      "source": [
        "## Rare words"
      ]
    },
    {
      "cell_type": "markdown",
      "metadata": {
        "id": "1J3w0d6M4IL7"
      },
      "source": [
        "In addition to removing English stopwords and corpus stopwords, we would like to remove rare words. We will consider as rare all words with a fewer than three occurences in the body of articles in corpus (total word frequency of 2 or less). \n",
        "\n",
        "**YOUR TASK (5 Points):** Complete the implementation of `get_rare_words` to return a list of corpus rare words. "
      ]
    },
    {
      "cell_type": "code",
      "metadata": {
        "id": "nPzZ2G2N4Hiu"
      },
      "source": [
        "def get_rare_words():\n",
        "  \"\"\" Returns a list of corpus rare words, appearing fewer than three times in \n",
        "      the body of articles in the corpus.\n",
        "  \"\"\"\n",
        "  cnt_body = filtered_counter(all_words_body.term_total)\n",
        "  # YOUR CODE HERE\n",
        "  rare_words = []\n",
        "  for i,j in cnt_body.most_common():\n",
        "    if j < 3 :\n",
        "      rare_words.append(i)\n",
        "  return rare_words\n",
        "  "
      ],
      "execution_count": 316,
      "outputs": []
    },
    {
      "cell_type": "code",
      "metadata": {
        "id": "1pCN2f2c83Pz"
      },
      "source": [
        "corpus_rarewords = get_rare_words()\n",
        "assert len(corpus_rarewords) > 48000\n",
        "assert 'yaron' in corpus_rarewords\n",
        "assert 'year2020' in corpus_rarewords\n",
        "assert 'uni' in corpus_rarewords\n",
        "assert 'unforgivable' in corpus_rarewords\n",
        "assert 'østfold' not in corpus_rarewords\n",
        "assert 'new' not in corpus_rarewords"
      ],
      "execution_count": 317,
      "outputs": []
    },
    {
      "cell_type": "markdown",
      "metadata": {
        "id": "9f1BeXclCs4Y"
      },
      "source": [
        "**Point to consider:** What are the pros and cons of keeping or removing rare words from the index? "
      ]
    },
    {
      "cell_type": "markdown",
      "metadata": {
        "id": "0H4s3aveG54S"
      },
      "source": [
        "# Index size"
      ]
    },
    {
      "cell_type": "markdown",
      "metadata": {
        "id": "K-L0654k4xXN"
      },
      "source": [
        "Great! Now that we've explored the words that make up our corpus we can proceed with index creation. We were asked to build three indices:\n",
        "\n",
        "1. Excluding English and corpus stopwords.\n",
        "2. Excluding English and corpus stopwords, and removing rare words. \n",
        "3. Excluding English and corpus stopwords, removing rare words, and applying stemming.\n",
        "\n",
        "To that end, we will use the `process_wiki` function defined earlier and provide it with three different tokenization functions that will yield the index we need. We also change our tokenization regex to exclude words shorter than 3 characters long.\n"
      ]
    },
    {
      "cell_type": "markdown",
      "metadata": {
        "id": "KLn8JsYFH0zx"
      },
      "source": [
        "## Creating indices"
      ]
    },
    {
      "cell_type": "code",
      "metadata": {
        "id": "C72CDXAQHlZb"
      },
      "source": [
        "stop = frozenset(corpus_stopwords).union(english_stopwords)\n",
        "stop_rare = stop.union(corpus_rarewords)\n",
        "\n",
        "def tokenize_no_stop(text):\n",
        "  return filter_tokens(tokenize(text), stop)\n",
        "def tokenize_no_stop_rare(text):\n",
        "  return filter_tokens(tokenize(text), stop_rare)\n",
        "def tokenize_no_stop_stem(text):\n",
        "  return filter_tokens(tokenize(text), stop_rare, True)\n",
        "RE_WORD = re.compile(r\"\"\"[\\#\\@\\w](['\\-]?\\w){2,24}\"\"\", re.UNICODE)\n",
        "\n",
        "_, _, _ = process_wiki(pages, 'stop_removed', tokenize_no_stop)\n",
        "_, _, _ = process_wiki(pages, 'stop_rare_removed', tokenize_no_stop_rare)\n",
        "_, _, _ = process_wiki(pages, 'with_stemming', tokenize_no_stop_stem)"
      ],
      "execution_count": 318,
      "outputs": []
    },
    {
      "cell_type": "markdown",
      "metadata": {
        "id": "0wGNgYpFXVO3"
      },
      "source": [
        "**Point to consider**: The above code iterates over the corpus three times. If we were to change the implementation of `process_wiki` so that it reads each document only once and adds its content to three indices, will the code execute three times faster? "
      ]
    },
    {
      "cell_type": "code",
      "metadata": {
        "id": "FiBbXJQPEz3J"
      },
      "source": [
        ""
      ],
      "execution_count": 318,
      "outputs": []
    },
    {
      "cell_type": "markdown",
      "metadata": {
        "id": "emc1o6xnllDo"
      },
      "source": [
        "## Calculating sizes\n",
        "\n",
        "In order to examine the implications of our different word inclusion/exclusion criteria on index size, we will calculate the index size on disk in MB for each of the four indices we created in this assignment. For brevity, we will only look at the body indices and focus their posting files (ignoring the global dictionary statistics) since normally the posting files are much larger than the global dictionary / word statistics. \n",
        "\n",
        "**YOUR TASK (10 Points):** Plot the indices size in a bar plot, where the X axis is the names of the indices and the Y axis is the size in MB. Make sure the indices are presented in a descending order based on the index size (from largest to smallest).  "
      ]
    },
    {
      "cell_type": "code",
      "metadata": {
        "id": "TPCpyTsIn3ym"
      },
      "source": [
        "def get_size(name):\n",
        "  ''' Return the size in MB of the posting files of the body index named `name`.\n",
        "  '''\n",
        "  return sum(p.stat().st_size for p in Path('./body_indices').rglob(f'{name}*.bin'))/1000000"
      ],
      "execution_count": 319,
      "outputs": []
    },
    {
      "cell_type": "code",
      "metadata": {
        "id": "M9ZJyMrr9nfq"
      },
      "source": [
        "def plot_index_sizes(index_names):\n",
        "  ''' Plot index size (MB) for each index given in `index_names`. Indices need\n",
        "      to be presented in descending order, from largest (left) to smallest \n",
        "      (right).\n",
        "  Parameters:\n",
        "  -----------\n",
        "  index_names: list of str\n",
        "    List of string index names, e.g. 'all_words'\n",
        "  Returns:\n",
        "  --------\n",
        "  index_names: list of str\n",
        "    List of string index names sorted in descending order of index sizes.\n",
        "  sizes: list of int\n",
        "    List of descending index sizes.\n",
        "  '''\n",
        "  # YOUR CODE HERE\n",
        "  dictionary={}\n",
        "  for name in index_names:\n",
        "    y = sum(p.stat().st_size for p in Path('./body_indices').rglob(f'{name}*.bin'))/1000000\n",
        "    dictionary[name]=y\n",
        "  \n",
        "  sorted_by_value =sorted(dictionary.items(), key=lambda item: item[1],reverse=True)\n",
        "  index_names=[i[0] for i in sorted_by_value]\n",
        "  sizes=[i[1] for i in sorted_by_value]\n",
        " \n",
        "  plt.bar(index_names, sizes)\n",
        "  plt.xticks(rotation=45)\n",
        "  plt.show()\n",
        "  return index_names, sizes"
      ],
      "execution_count": 320,
      "outputs": []
    },
    {
      "cell_type": "code",
      "metadata": {
        "colab": {
          "base_uri": "https://localhost:8080/",
          "height": 331
        },
        "id": "_eCxfpGyb7hM",
        "outputId": "1e0b8530-7ad8-4d01-b926-18a4fc351983"
      },
      "source": [
        "index_names, sizes = plot_index_sizes(\n",
        "  [\"stop_removed\", \"stop_rare_removed\", \"with_stemming\", \"all_words\"]\n",
        ")\n",
        "assert all([s>0 for s in sizes])\n",
        "assert all([d<0 for d in np.diff(sizes)])\n",
        "assert list(map(_hash, index_names)) == \\\n",
        "  ['1b30d25775', '1ed1e86d00', 'dbdc047638', 'fb4af71be4']"
      ],
      "execution_count": 321,
      "outputs": [
        {
          "output_type": "display_data",
          "data": {
            "image/png": "[encoded data removed]",
            "text/plain": [
              "<Figure size 432x288 with 1 Axes>"
            ]
          },
          "metadata": {
            "needs_background": "light"
          }
        }
      ]
    },
    {
      "cell_type": "markdown",
      "metadata": {
        "id": "HY8WMZk37V3I"
      },
      "source": [
        "**Points to consider:** \n",
        "\n",
        "*   Can you explain the difference in index sizes? \n",
        "*   Which of the indices is the smallest and why?\n",
        "*   What is giving us more savings in terms of index size, removing high-frequency words or low-frequency words?\n",
        "*   When processing the entire English Wikipedia (and not just 2000 articles as we did here), do you expect the removal of rare words to have a greater effect on index size?\n",
        "*   Should we use stemming going forward? \n",
        "\n",
        "\n",
        "\n",
        "\n",
        "\n"
      ]
    }
  ]
}